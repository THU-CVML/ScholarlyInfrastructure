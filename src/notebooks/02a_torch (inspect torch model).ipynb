{
 "cells": [
  {
   "cell_type": "markdown",
   "metadata": {},
   "source": [
    "# logging.torch\n",
    "\n",
    "> 检查PyTorch模型是否符合预期，是否为要训练的模型"
   ]
  },
  {
   "cell_type": "code",
   "execution_count": null,
   "metadata": {},
   "outputs": [],
   "source": [
    "#| default_exp logging.torch"
   ]
  },
  {
   "cell_type": "code",
   "execution_count": null,
   "metadata": {},
   "outputs": [
    {
     "name": "stdout",
     "output_type": "stream",
     "text": [
      "The autoreload extension is already loaded. To reload it, use:\n",
      "  %reload_ext autoreload\n"
     ]
    }
   ],
   "source": [
    "#| hide\n",
    "%load_ext autoreload\n",
    "%autoreload 2\n",
    "from nbdev.showdoc import *"
   ]
  },
  {
   "cell_type": "code",
   "execution_count": null,
   "metadata": {},
   "outputs": [],
   "source": [
    "#| export\n",
    "from scholarly_infrastructure.logging.nucleus import logger"
   ]
  },
  {
   "cell_type": "code",
   "execution_count": null,
   "metadata": {},
   "outputs": [],
   "source": [
    "#| export\n",
    "from fastcore.basics import patch\n",
    "import torch\n",
    "import torch.nn as nn\n",
    "import torch.nn.functional as F\n",
    "import torch.optim as optim\n",
    "from rich.table import Table\n",
    "\n",
    "@patch\n",
    "def inspect_model_parameters(model:nn.Module):\n",
    "    trainable_params = 0\n",
    "    all_param = 0\n",
    "    trainable_bytes = 0\n",
    "    all_bytes = 0\n",
    "    for _, param in model.named_parameters():\n",
    "        param_bytes = param.numel() * param.element_size()\n",
    "        all_param += param.numel()\n",
    "        all_bytes += param_bytes\n",
    "        if param.requires_grad:\n",
    "            trainable_params += param.numel()\n",
    "            trainable_bytes += param_bytes\n",
    "    return trainable_params, all_param, trainable_bytes, all_bytes\n",
    "\n",
    "@patch\n",
    "def num_of_total_parameters(model:nn.Module):\n",
    "    return (model).inspect_model_parameters()[1]\n",
    "\n",
    "@patch\n",
    "def num_of_trainable_parameters(model:nn.Module):\n",
    "    return (model).inspect_model_parameters()[0]\n",
    "\n",
    "@patch\n",
    "def print_trainable_parameters(model:nn.Module):\n",
    "    \"\"\"\n",
    "    Prints the number of trainable parameters in the model.\n",
    "    \"\"\"\n",
    "    trainable_params, all_param, trainable_bytes, all_bytes = model.inspect_model_parameters()\n",
    "    # print(\n",
    "    table = Table(title=f\"Model {model.__class__.__name__}'s Trainable Parameters Inspection\")\n",
    "    table.add_column(\"Number of Trainable Parameters\", justify=\"right\", style=\"cyan\", no_wrap=True)\n",
    "    table.add_column(\"Number of Total Parameters\", style=\"magenta\")\n",
    "    table.add_column(\"Trainable Ratio (0-1)\", justify=\"right\", style=\"green\")\n",
    "    table.add_row(f\"{trainable_params:.3e} ({trainable_bytes:.3e} bytes)\", f\"{all_param:.3e} ({all_bytes:.3e} bytes)\", f\"{trainable_params / all_param:.3e}\")\n",
    "    \n",
    "    logger.info(\n",
    "        f\"trainable params: {trainable_params} || all params: {all_param} || trainable%: {100 * trainable_params / all_param:.2f}\", \n",
    "        rich=table\n",
    "    )"
   ]
  },
  {
   "cell_type": "code",
   "execution_count": null,
   "metadata": {},
   "outputs": [],
   "source": [
    "from transformers import AutoModel, AutoConfig\n",
    "test_model = AutoModel.from_config(AutoConfig.from_pretrained(\"google/vit-base-patch16-224-in21k\"))"
   ]
  },
  {
   "cell_type": "code",
   "execution_count": null,
   "metadata": {},
   "outputs": [
    {
     "data": {
      "text/html": [
       "<pre style=\"white-space:pre;overflow-x:auto;line-height:normal;font-family:Menlo,'DejaVu Sans Mono',consolas,'Courier New',monospace\"><span style=\"color: #7fbfbf; text-decoration-color: #7fbfbf\">Sat 2024-11-16 16:46:31.180441</span>\n",
       "</pre>\n"
      ],
      "text/plain": [
       "\u001b[2;36mSat 2024-11-16 16:46:31.180441\u001b[0m\n"
      ]
     },
     "metadata": {},
     "output_type": "display_data"
    },
    {
     "data": {
      "text/html": [
       "<pre style=\"white-space:pre;overflow-x:auto;line-height:normal;font-family:Menlo,'DejaVu Sans Mono',consolas,'Courier New',monospace\"><span style=\"color: #000080; text-decoration-color: #000080\">INFO    </span> <span style=\"font-style: italic\">                    Model ViTModel's Trainable Parameters Inspection                    </span>  <a href=\"file:///tmp/ipykernel_2289193/1218786521.py\" target=\"_blank\"><span style=\"color: #7f7f7f; text-decoration-color: #7f7f7f\">1218786521.py</span></a><span style=\"color: #7f7f7f; text-decoration-color: #7f7f7f\">:</span><a href=\"file:///tmp/ipykernel_2289193/1218786521.py#45\" target=\"_blank\"><span style=\"color: #7f7f7f; text-decoration-color: #7f7f7f\">45</span></a>\n",
       "         ┏━━━━━━━━━━━━━━━━━━━━━━━━━━━━━━━━┳━━━━━━━━━━━━━━━━━━━━━━━━━━━━━┳━━━━━━━━━━━━━━━━━━━━━━━┓  <span style=\"color: #7f7f7f; text-decoration-color: #7f7f7f\">                </span>\n",
       "         ┃<span style=\"font-weight: bold\"> Number of Trainable Parameters </span>┃<span style=\"font-weight: bold\"> Number of Total Parameters  </span>┃<span style=\"font-weight: bold\"> Trainable Ratio (0-1) </span>┃  <span style=\"color: #7f7f7f; text-decoration-color: #7f7f7f\">                </span>\n",
       "         ┡━━━━━━━━━━━━━━━━━━━━━━━━━━━━━━━━╇━━━━━━━━━━━━━━━━━━━━━━━━━━━━━╇━━━━━━━━━━━━━━━━━━━━━━━┩  <span style=\"color: #7f7f7f; text-decoration-color: #7f7f7f\">                </span>\n",
       "         │<span style=\"color: #008080; text-decoration-color: #008080\">    8.639e+07 (3.456e+08 bytes) </span>│<span style=\"color: #800080; text-decoration-color: #800080\"> 8.639e+07 (3.456e+08 bytes) </span>│<span style=\"color: #008000; text-decoration-color: #008000\">             1.000e+00 </span>│  <span style=\"color: #7f7f7f; text-decoration-color: #7f7f7f\">                </span>\n",
       "         └────────────────────────────────┴─────────────────────────────┴───────────────────────┘  <span style=\"color: #7f7f7f; text-decoration-color: #7f7f7f\">                </span>\n",
       "</pre>\n"
      ],
      "text/plain": [
       "\u001b[34mINFO    \u001b[0m \u001b[3m                    Model ViTModel's Trainable Parameters Inspection                    \u001b[0m  \u001b]8;id=688599;file:///tmp/ipykernel_2289193/1218786521.py\u001b\\\u001b[2m1218786521.py\u001b[0m\u001b]8;;\u001b\\\u001b[2m:\u001b[0m\u001b]8;id=421080;file:///tmp/ipykernel_2289193/1218786521.py#45\u001b\\\u001b[2m45\u001b[0m\u001b]8;;\u001b\\\n",
       "         ┏━━━━━━━━━━━━━━━━━━━━━━━━━━━━━━━━┳━━━━━━━━━━━━━━━━━━━━━━━━━━━━━┳━━━━━━━━━━━━━━━━━━━━━━━┓  \u001b[2m                \u001b[0m\n",
       "         ┃\u001b[1m \u001b[0m\u001b[1mNumber of Trainable Parameters\u001b[0m\u001b[1m \u001b[0m┃\u001b[1m \u001b[0m\u001b[1mNumber of Total Parameters \u001b[0m\u001b[1m \u001b[0m┃\u001b[1m \u001b[0m\u001b[1mTrainable Ratio (0-1)\u001b[0m\u001b[1m \u001b[0m┃  \u001b[2m                \u001b[0m\n",
       "         ┡━━━━━━━━━━━━━━━━━━━━━━━━━━━━━━━━╇━━━━━━━━━━━━━━━━━━━━━━━━━━━━━╇━━━━━━━━━━━━━━━━━━━━━━━┩  \u001b[2m                \u001b[0m\n",
       "         │\u001b[36m \u001b[0m\u001b[36m   8.639e+07 (3.456e+08 bytes)\u001b[0m\u001b[36m \u001b[0m│\u001b[35m \u001b[0m\u001b[35m8.639e+07 (3.456e+08 bytes)\u001b[0m\u001b[35m \u001b[0m│\u001b[32m \u001b[0m\u001b[32m            1.000e+00\u001b[0m\u001b[32m \u001b[0m│  \u001b[2m                \u001b[0m\n",
       "         └────────────────────────────────┴─────────────────────────────┴───────────────────────┘  \u001b[2m                \u001b[0m\n"
      ]
     },
     "metadata": {},
     "output_type": "display_data"
    }
   ],
   "source": [
    "test_model.print_trainable_parameters()"
   ]
  },
  {
   "cell_type": "code",
   "execution_count": null,
   "metadata": {},
   "outputs": [],
   "source": [
    "#| export\n",
    "from bigmodelvis import Visualization\n",
    "@patch\n",
    "def model_rich_tree(self:nn.Module):\n",
    "    module_tree = Visualization(self).structure_graph(printTree=False)\n",
    "    return module_tree\n",
    "\n",
    "from rich.panel import Panel\n",
    "@patch\n",
    "def print_model_pretty(self:nn.Module):\n",
    "    module_tree = self.model_rich_tree()\n",
    "    panel = Panel(module_tree, title=f\"Model Tree for {self.__class__.__name__}\")\n",
    "    logger.info(str(self), rich=panel)\n",
    "    # return module_tree"
   ]
  },
  {
   "cell_type": "code",
   "execution_count": null,
   "metadata": {},
   "outputs": [
    {
     "data": {
      "text/html": [
       "<pre style=\"white-space:pre;overflow-x:auto;line-height:normal;font-family:Menlo,'DejaVu Sans Mono',consolas,'Courier New',monospace\"><span style=\"color: #7fbfbf; text-decoration-color: #7fbfbf\">Sat 2024-11-16 16:46:31.346081</span>\n",
       "</pre>\n"
      ],
      "text/plain": [
       "\u001b[2;36mSat 2024-11-16 16:46:31.346081\u001b[0m\n"
      ]
     },
     "metadata": {},
     "output_type": "display_data"
    },
    {
     "data": {
      "text/html": [
       "<pre style=\"white-space:pre;overflow-x:auto;line-height:normal;font-family:Menlo,'DejaVu Sans Mono',consolas,'Courier New',monospace\"><span style=\"color: #000080; text-decoration-color: #000080\">INFO    </span> ╭─────────────────────────────── Model Tree for ViTModel ────────────────────────────────╮ <a href=\"file:///tmp/ipykernel_2289193/640056773.py\" target=\"_blank\"><span style=\"color: #7f7f7f; text-decoration-color: #7f7f7f\">640056773.py</span></a><span style=\"color: #7f7f7f; text-decoration-color: #7f7f7f\">:</span><a href=\"file:///tmp/ipykernel_2289193/640056773.py#13\" target=\"_blank\"><span style=\"color: #7f7f7f; text-decoration-color: #7f7f7f\">13</span></a>\n",
       "         │ <span style=\"color: #c0c0c0; text-decoration-color: #c0c0c0\">root</span>                                                                                   │ <span style=\"color: #7f7f7f; text-decoration-color: #7f7f7f\">               </span>\n",
       "         │ ├── <span style=\"color: #c0c0c0; text-decoration-color: #c0c0c0\">embeddings </span><span style=\"color: #008000; text-decoration-color: #008000\">(ViTEmbeddings) </span><span style=\"color: #008080; text-decoration-color: #008080\">cls_token:[1, 1, 768] position_embeddings:[1, 197, 768]</span> │ <span style=\"color: #7f7f7f; text-decoration-color: #7f7f7f\">               </span>\n",
       "         │ │   └── <span style=\"color: #c0c0c0; text-decoration-color: #c0c0c0\">patch_embeddings </span><span style=\"color: #008000; text-decoration-color: #008000\">(ViTPatchEmbeddings)</span>                                          │ <span style=\"color: #7f7f7f; text-decoration-color: #7f7f7f\">               </span>\n",
       "         │ │       └── <span style=\"color: #c0c0c0; text-decoration-color: #c0c0c0\">projection </span><span style=\"color: #008000; text-decoration-color: #008000\">(Conv2d) </span><span style=\"color: #008080; text-decoration-color: #008080\">weight:[768, 3, 16, 16] bias:[768]</span>                     │ <span style=\"color: #7f7f7f; text-decoration-color: #7f7f7f\">               </span>\n",
       "         │ ├── <span style=\"color: #c0c0c0; text-decoration-color: #c0c0c0\">encoder </span><span style=\"color: #008000; text-decoration-color: #008000\">(ViTEncoder)</span>                                                               │ <span style=\"color: #7f7f7f; text-decoration-color: #7f7f7f\">               </span>\n",
       "         │ │   └── <span style=\"color: #c0c0c0; text-decoration-color: #c0c0c0\">layer </span><span style=\"color: #008000; text-decoration-color: #008000\">(ModuleList)</span>                                                             │ <span style=\"color: #7f7f7f; text-decoration-color: #7f7f7f\">               </span>\n",
       "         │ │       └── <span style=\"color: #800000; text-decoration-color: #800000\">0-11</span><span style=\"color: #008000; text-decoration-color: #008000\">(ViTLayer)</span>                                                             │ <span style=\"color: #7f7f7f; text-decoration-color: #7f7f7f\">               </span>\n",
       "         │ │           ├── <span style=\"color: #c0c0c0; text-decoration-color: #c0c0c0\">attention </span><span style=\"color: #008000; text-decoration-color: #008000\">(ViTSdpaAttention)</span>                                           │ <span style=\"color: #7f7f7f; text-decoration-color: #7f7f7f\">               </span>\n",
       "         │ │           │   ├── <span style=\"color: #c0c0c0; text-decoration-color: #c0c0c0\">attention </span><span style=\"color: #008000; text-decoration-color: #008000\">(ViTSdpaSelfAttention)</span>                                   │ <span style=\"color: #7f7f7f; text-decoration-color: #7f7f7f\">               </span>\n",
       "         │ │           │   │   └── <span style=\"color: #800000; text-decoration-color: #800000\">query,key,value</span><span style=\"color: #008000; text-decoration-color: #008000\">(Linear) </span><span style=\"color: #008080; text-decoration-color: #008080\">weight:[768, 768] bias:[768]</span>           │ <span style=\"color: #7f7f7f; text-decoration-color: #7f7f7f\">               </span>\n",
       "         │ │           │   └── <span style=\"color: #c0c0c0; text-decoration-color: #c0c0c0\">output </span><span style=\"color: #008000; text-decoration-color: #008000\">(ViTSelfOutput)</span>                                             │ <span style=\"color: #7f7f7f; text-decoration-color: #7f7f7f\">               </span>\n",
       "         │ │           │       └── <span style=\"color: #c0c0c0; text-decoration-color: #c0c0c0\">dense </span><span style=\"color: #008000; text-decoration-color: #008000\">(Linear) </span><span style=\"color: #008080; text-decoration-color: #008080\">weight:[768, 768] bias:[768]</span>                    │ <span style=\"color: #7f7f7f; text-decoration-color: #7f7f7f\">               </span>\n",
       "         │ │           ├── <span style=\"color: #c0c0c0; text-decoration-color: #c0c0c0\">intermediate </span><span style=\"color: #008000; text-decoration-color: #008000\">(ViTIntermediate)</span>                                         │ <span style=\"color: #7f7f7f; text-decoration-color: #7f7f7f\">               </span>\n",
       "         │ │           │   └── <span style=\"color: #c0c0c0; text-decoration-color: #c0c0c0\">dense </span><span style=\"color: #008000; text-decoration-color: #008000\">(Linear) </span><span style=\"color: #008080; text-decoration-color: #008080\">weight:[3072, 768] bias:[3072]</span>                      │ <span style=\"color: #7f7f7f; text-decoration-color: #7f7f7f\">               </span>\n",
       "         │ │           ├── <span style=\"color: #c0c0c0; text-decoration-color: #c0c0c0\">output </span><span style=\"color: #008000; text-decoration-color: #008000\">(ViTOutput)</span>                                                     │ <span style=\"color: #7f7f7f; text-decoration-color: #7f7f7f\">               </span>\n",
       "         │ │           │   └── <span style=\"color: #c0c0c0; text-decoration-color: #c0c0c0\">dense </span><span style=\"color: #008000; text-decoration-color: #008000\">(Linear) </span><span style=\"color: #008080; text-decoration-color: #008080\">weight:[768, 3072] bias:[768]</span>                       │ <span style=\"color: #7f7f7f; text-decoration-color: #7f7f7f\">               </span>\n",
       "         │ │           └── <span style=\"color: #800000; text-decoration-color: #800000\">layernorm_before,layernorm_after</span><span style=\"color: #008000; text-decoration-color: #008000\">(LayerNorm) </span><span style=\"color: #008080; text-decoration-color: #008080\">weight:[768] bias:[768]</span>    │ <span style=\"color: #7f7f7f; text-decoration-color: #7f7f7f\">               </span>\n",
       "         │ ├── <span style=\"color: #c0c0c0; text-decoration-color: #c0c0c0\">layernorm </span><span style=\"color: #008000; text-decoration-color: #008000\">(LayerNorm) </span><span style=\"color: #008080; text-decoration-color: #008080\">weight:[768] bias:[768]</span>                                      │ <span style=\"color: #7f7f7f; text-decoration-color: #7f7f7f\">               </span>\n",
       "         │ └── <span style=\"color: #c0c0c0; text-decoration-color: #c0c0c0\">pooler </span><span style=\"color: #008000; text-decoration-color: #008000\">(ViTPooler)</span>                                                                 │ <span style=\"color: #7f7f7f; text-decoration-color: #7f7f7f\">               </span>\n",
       "         │     └── <span style=\"color: #c0c0c0; text-decoration-color: #c0c0c0\">dense </span><span style=\"color: #008000; text-decoration-color: #008000\">(Linear) </span><span style=\"color: #008080; text-decoration-color: #008080\">weight:[768, 768] bias:[768]</span>                                    │ <span style=\"color: #7f7f7f; text-decoration-color: #7f7f7f\">               </span>\n",
       "         ╰────────────────────────────────────────────────────────────────────────────────────────╯ <span style=\"color: #7f7f7f; text-decoration-color: #7f7f7f\">               </span>\n",
       "</pre>\n"
      ],
      "text/plain": [
       "\u001b[34mINFO    \u001b[0m ╭─────────────────────────────── Model Tree for ViTModel ────────────────────────────────╮ \u001b]8;id=728585;file:///tmp/ipykernel_2289193/640056773.py\u001b\\\u001b[2m640056773.py\u001b[0m\u001b]8;;\u001b\\\u001b[2m:\u001b[0m\u001b]8;id=216835;file:///tmp/ipykernel_2289193/640056773.py#13\u001b\\\u001b[2m13\u001b[0m\u001b]8;;\u001b\\\n",
       "         │ \u001b[37mroot\u001b[0m                                                                                   │ \u001b[2m               \u001b[0m\n",
       "         │ ├── \u001b[37membeddings \u001b[0m\u001b[32m(ViTEmbeddings) \u001b[0m\u001b[36mcls_token:[1, 1, 768] \u001b[0m\u001b[36mposition_embeddings:[1, 197, 768]\u001b[0m │ \u001b[2m               \u001b[0m\n",
       "         │ │   └── \u001b[37mpatch_embeddings \u001b[0m\u001b[32m(ViTPatchEmbeddings)\u001b[0m                                          │ \u001b[2m               \u001b[0m\n",
       "         │ │       └── \u001b[37mprojection \u001b[0m\u001b[32m(Conv2d) \u001b[0m\u001b[36mweight:[768, 3, 16, 16] \u001b[0m\u001b[36mbias:[768]\u001b[0m                     │ \u001b[2m               \u001b[0m\n",
       "         │ ├── \u001b[37mencoder \u001b[0m\u001b[32m(ViTEncoder)\u001b[0m                                                               │ \u001b[2m               \u001b[0m\n",
       "         │ │   └── \u001b[37mlayer \u001b[0m\u001b[32m(ModuleList)\u001b[0m                                                             │ \u001b[2m               \u001b[0m\n",
       "         │ │       └── \u001b[31m0-11\u001b[0m\u001b[32m(ViTLayer)\u001b[0m                                                             │ \u001b[2m               \u001b[0m\n",
       "         │ │           ├── \u001b[37mattention \u001b[0m\u001b[32m(ViTSdpaAttention)\u001b[0m                                           │ \u001b[2m               \u001b[0m\n",
       "         │ │           │   ├── \u001b[37mattention \u001b[0m\u001b[32m(ViTSdpaSelfAttention)\u001b[0m                                   │ \u001b[2m               \u001b[0m\n",
       "         │ │           │   │   └── \u001b[31mquery,key,value\u001b[0m\u001b[32m(Linear) \u001b[0m\u001b[36mweight:[768, 768] \u001b[0m\u001b[36mbias:[768]\u001b[0m           │ \u001b[2m               \u001b[0m\n",
       "         │ │           │   └── \u001b[37moutput \u001b[0m\u001b[32m(ViTSelfOutput)\u001b[0m                                             │ \u001b[2m               \u001b[0m\n",
       "         │ │           │       └── \u001b[37mdense \u001b[0m\u001b[32m(Linear) \u001b[0m\u001b[36mweight:[768, 768] \u001b[0m\u001b[36mbias:[768]\u001b[0m                    │ \u001b[2m               \u001b[0m\n",
       "         │ │           ├── \u001b[37mintermediate \u001b[0m\u001b[32m(ViTIntermediate)\u001b[0m                                         │ \u001b[2m               \u001b[0m\n",
       "         │ │           │   └── \u001b[37mdense \u001b[0m\u001b[32m(Linear) \u001b[0m\u001b[36mweight:[3072, 768] \u001b[0m\u001b[36mbias:[3072]\u001b[0m                      │ \u001b[2m               \u001b[0m\n",
       "         │ │           ├── \u001b[37moutput \u001b[0m\u001b[32m(ViTOutput)\u001b[0m                                                     │ \u001b[2m               \u001b[0m\n",
       "         │ │           │   └── \u001b[37mdense \u001b[0m\u001b[32m(Linear) \u001b[0m\u001b[36mweight:[768, 3072] \u001b[0m\u001b[36mbias:[768]\u001b[0m                       │ \u001b[2m               \u001b[0m\n",
       "         │ │           └── \u001b[31mlayernorm_before,layernorm_after\u001b[0m\u001b[32m(LayerNorm) \u001b[0m\u001b[36mweight:[768] \u001b[0m\u001b[36mbias:[768]\u001b[0m    │ \u001b[2m               \u001b[0m\n",
       "         │ ├── \u001b[37mlayernorm \u001b[0m\u001b[32m(LayerNorm) \u001b[0m\u001b[36mweight:[768] \u001b[0m\u001b[36mbias:[768]\u001b[0m                                      │ \u001b[2m               \u001b[0m\n",
       "         │ └── \u001b[37mpooler \u001b[0m\u001b[32m(ViTPooler)\u001b[0m                                                                 │ \u001b[2m               \u001b[0m\n",
       "         │     └── \u001b[37mdense \u001b[0m\u001b[32m(Linear) \u001b[0m\u001b[36mweight:[768, 768] \u001b[0m\u001b[36mbias:[768]\u001b[0m                                    │ \u001b[2m               \u001b[0m\n",
       "         ╰────────────────────────────────────────────────────────────────────────────────────────╯ \u001b[2m               \u001b[0m\n"
      ]
     },
     "metadata": {},
     "output_type": "display_data"
    }
   ],
   "source": [
    "test_model.print_model_pretty()"
   ]
  },
  {
   "cell_type": "code",
   "execution_count": null,
   "metadata": {},
   "outputs": [],
   "source": [
    "#| hide\n",
    "import nbdev; nbdev.nbdev_export()"
   ]
  }
 ],
 "metadata": {
  "kernelspec": {
   "display_name": "python3",
   "language": "python",
   "name": "python3"
  }
 },
 "nbformat": 4,
 "nbformat_minor": 4
}
