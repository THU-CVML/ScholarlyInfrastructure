{
 "cells": [
  {
   "cell_type": "code",
   "execution_count": null,
   "metadata": {},
   "outputs": [],
   "source": [
    "#| hide\n",
    "from scholarly_infrastructure.help import *"
   ]
  },
  {
   "cell_type": "markdown",
   "metadata": {},
   "source": [
    "# 大师荟萃之楼 Scholarly Infrastructure"
   ]
  },
  {
   "cell_type": "markdown",
   "metadata": {},
   "source": [
    "> “所谓大学者，非谓有大楼之谓也，有大师之谓也。” ——梅贻琦\n",
    "\n",
    "> \"A first-class university is not top for its grand infrastuctures, but by its great scholars.\" —— Mei Yiqi\n",
    "\n",
    "Inspired by the timeless wisdom of Mei Yiqi, Scholarly Infrastructure is a foundational library designed to support and accelerate research projects within our laboratory."
   ]
  },
  {
   "cell_type": "markdown",
   "metadata": {},
   "source": [
    "## 🌟 Introduction\n",
    "**Scholarly Infrastructure** aims to provide a robust and modular foundation for all projects in our research group. It centralizes common utilities, tools, and workflows, enabling seamless collaboration and reducing redundant development effort. By building on this infrastructure, researchers can focus more on innovation and experimentation rather than re-implementing fundamental components."
   ]
  },
  {
   "cell_type": "markdown",
   "metadata": {},
   "source": [
    "## 🔑 **Key Features**\n",
    "\n",
    "- 📚 **Common Utilities**: Ready-to-use tools for data processing, visualization, and analysis.  \n",
    "- ⚙️ **Modular Design**: Highly reusable modules that can be integrated across diverse projects.  \n",
    "- 🚀 **Performance Optimization**: Optimized algorithms and workflows for research tasks.  \n",
    "- 🔒 **Scalable and Reliable**: Built to handle the increasing complexity of modern research.  \n",
    "- 🛠️ **Customizable**: Easy to extend and tailor to specific project needs.\n"
   ]
  },
  {
   "cell_type": "markdown",
   "metadata": {},
   "source": [
    "## 📦 **Installation**\n",
    "\n",
    "Install latest from the GitHub [repository][repo]:\n",
    "\n",
    "```sh\n",
    "$ pip install git+https://github.com/THU-CVML/ScholarlyInfrastructure.git\n",
    "```\n",
    "\n",
    "or from [conda][conda]\n",
    "\n",
    "```sh\n",
    "$ conda install -c yecanming6666 scholarly_infrastructure\n",
    "```\n",
    "\n",
    "or from [pypi][pypi]\n",
    "\n",
    "\n",
    "```sh\n",
    "$ pip install scholarly_infrastructure\n",
    "```\n",
    "\n",
    "\n",
    "[repo]: https://github.com/THU-CVML/ScholarlyInfrastructure\n",
    "<!-- [docs]: https://2catycm.github.io/NamableClassify/ -->\n",
    "[pypi]: https://pypi.org/project/namable_classify/\n",
    "[conda]: https://anaconda.org/2catycm/namable_classify"
   ]
  },
  {
   "cell_type": "markdown",
   "metadata": {},
   "source": [
    "\n",
    "## 📖 **Usage**\n"
   ]
  },
  {
   "cell_type": "markdown",
   "metadata": {},
   "source": [
    "### Documentation\n",
    "Documentation currently not available.\n",
    "\n",
    "<!-- Documentation can be found hosted on this GitHub [repository][repo]'s [pages][docs].  -->\n",
    "\n",
    "<!-- TODO correct links -->\n",
    "<!-- [docs]: https://github.com/THU-CVML/ScholarlyInfrastructure -->"
   ]
  },
  {
   "cell_type": "markdown",
   "metadata": {},
   "source": [
    "### Quick Start\n",
    "\n",
    "Here's a quick example to get started:"
   ]
  },
  {
   "cell_type": "code",
   "execution_count": null,
   "metadata": {},
   "outputs": [
    {
     "data": {
      "text/plain": [
       "2"
      ]
     },
     "execution_count": null,
     "metadata": {},
     "output_type": "execute_result"
    }
   ],
   "source": [
    "1+1"
   ]
  },
  {
   "cell_type": "markdown",
   "metadata": {},
   "source": [
    "<!-- ## 🏗️ **Architecture**\n",
    "\n",
    "The library is organized into the following modules:\n",
    "\n",
    "1. **Data Utilities**: Functions for data loading, cleaning, and manipulation.  \n",
    "2. **Visualization Tools**: Easy-to-use tools for plotting and presenting data.  \n",
    "3. **Model Training Helpers**: Scripts and utilities to streamline model training and evaluation.  \n",
    "4. **Optimization Frameworks**: Support for hyperparameter tuning and experimentation.  \n",
    "5. **Research Tools**: Domain-specific tools tailored to our lab's projects.\n",
    "\n",
    "--- -->"
   ]
  },
  {
   "cell_type": "markdown",
   "metadata": {},
   "source": [
    "\n",
    "## 🤝 **Contributing**\n",
    "\n",
    "Contributions are welcome! Here's how you can quickly get involved. Please review our [contribution guidelines](CONTRIBUTING.md) for more details. \n",
    "\n",
    "### git guide\n",
    "\n",
    "1. Fork the repository and then git clone it to your local machine: `git clone https://github.com/your-username/ScholarlyInfrastructure.git`.  \n",
    "2. Create a new branch for your feature or bug fix: `git checkout -b feature-name`.  \n",
    "3. Commit your changes: `git commit -m \"Add feature-name\"`.  \n",
    "4. Push your branch: `git push origin feature-name`.  \n",
    "5. Open a pull request and describe your changes.  \n",
    "\n",
    "\n",
    "\n",
    "---\n"
   ]
  },
  {
   "cell_type": "markdown",
   "metadata": {},
   "source": [
    "### nbdev framework guide"
   ]
  },
  {
   "cell_type": "markdown",
   "metadata": {},
   "source": [
    "Our project utilizes `nbdev` to manage our codes, tests and documentation. \n",
    "If you are new to using `nbdev` here are some quich points to get you started."
   ]
  },
  {
   "cell_type": "markdown",
   "metadata": {},
   "source": [
    "#### 1. Install this libary in Development mode\n",
    "\n",
    "After you have cloned the repository, and before you start working on it, you need to pip install this library in development mode. This can be done using the following command:"
   ]
  },
  {
   "cell_type": "markdown",
   "metadata": {},
   "source": [
    "```sh\n",
    "# make sure NamableClassify package is installed in development mode\n",
    "$ pip install -e .[dev]\n",
    "```"
   ]
  },
  {
   "cell_type": "markdown",
   "metadata": {},
   "source": [
    "#### 2. make changes under `notebooks/` directory\n",
    "\n",
    "use `#| export` for exported codes.  "
   ]
  },
  {
   "cell_type": "markdown",
   "metadata": {},
   "source": [
    "#### 3. check and synchronize before git commit \n",
    "\n",
    "```sh\n",
    "# compile to have changes apply to the python module\n",
    "$ nbdev_prepare\n",
    "```"
   ]
  },
  {
   "cell_type": "markdown",
   "metadata": {},
   "source": [
    "\n",
    "## 📜 **License**\n",
    "\n",
    "This project is licensed under the [Apache 2.0 License](LICENSE). You are free to use, modify, and distribute this software under the terms, provided you comply with the license’s conditions, including giving credit to the original authors and not using their trademarks.\n",
    "\n",
    "<!-- TODO contributors authors in a file -->\n",
    "\n",
    "<!-- ---\n",
    "\n",
    "## 🌐 **Contact**\n",
    "\n",
    "For questions, feedback, or support, feel free to reach out:\n",
    "\n",
    "- **Maintainer**: Your Name  \n",
    "- **Email**: your_email@example.com  \n",
    "- **Website**: [Your Lab's Website](https://example.com)\n",
    "\n",
    "--- -->\n",
    "\n",
    "Let **Scholarly Infrastructure** be the foundation that powers your next groundbreaking discovery. Together, we build not just tools, but a thriving research ecosystem. ✨\n"
   ]
  }
 ],
 "metadata": {
  "kernelspec": {
   "display_name": "python3",
   "language": "python",
   "name": "python3"
  }
 },
 "nbformat": 4,
 "nbformat_minor": 4
}
