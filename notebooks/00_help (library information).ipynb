{
 "cells": [
  {
   "cell_type": "markdown",
   "metadata": {},
   "source": [
    "# Library Information\n",
    "\n",
    "> 本库的一些信息"
   ]
  },
  {
   "cell_type": "code",
   "execution_count": null,
   "metadata": {},
   "outputs": [],
   "source": [
    "#| default_exp help"
   ]
  },
  {
   "cell_type": "code",
   "execution_count": null,
   "metadata": {},
   "outputs": [
    {
     "name": "stdout",
     "output_type": "stream",
     "text": [
      "The autoreload extension is already loaded. To reload it, use:\n",
      "  %reload_ext autoreload\n"
     ]
    }
   ],
   "source": [
    "#| hide\n",
    "%load_ext autoreload\n",
    "%autoreload 2\n",
    "from nbdev.showdoc import *"
   ]
  },
  {
   "cell_type": "code",
   "execution_count": null,
   "metadata": {},
   "outputs": [],
   "source": [
    "#| hide\n",
    "import os\n",
    "os.environ['HF_ENDPOINT'] = \"https://hf-mirror.com\""
   ]
  },
  {
   "cell_type": "markdown",
   "metadata": {},
   "source": [
    "## 项目有关的路径计算"
   ]
  },
  {
   "cell_type": "code",
   "execution_count": null,
   "metadata": {},
   "outputs": [],
   "source": [
    "#| export\n",
    "# https://stackoverflow.com/questions/1547466/check-if-a-parameter-is-a-python-module\n",
    "from types import ModuleType"
   ]
  },
  {
   "cell_type": "code",
   "execution_count": null,
   "metadata": {},
   "outputs": [],
   "source": [
    "#| export\n",
    "from dataclasses import dataclass\n",
    "from pathlib import Path\n",
    "import inspect\n",
    "from typing import Any\n",
    "\n",
    "@dataclass\n",
    "class LibraryPaths:\n",
    "    lib_init_path: Path\n",
    "    lib_directory_path: Path\n",
    "    lib_repo_path: Path\n",
    "    readme_path: Path\n",
    "    runs_path: Path\n",
    "    runs_figs_path: Path\n",
    "    data_path: Path\n",
    "\n",
    "def setup_paths(this_library: ModuleType) -> LibraryPaths:\n",
    "    \"\"\"\n",
    "    Sets up paths for a given library module.\n",
    "\n",
    "    Parameters:\n",
    "    - this_library: The library module for which to set up paths.\n",
    "\n",
    "    Returns:\n",
    "    - LibraryPaths: A dataclass containing all the necessary paths.\n",
    "    \"\"\"\n",
    "    lib_init_path = Path(inspect.getfile(this_library))\n",
    "    lib_directory_path = lib_init_path.parent\n",
    "    lib_repo_path = lib_directory_path.parent\n",
    "\n",
    "    runs_path = lib_repo_path / 'runs'\n",
    "    runs_path.mkdir(exist_ok=True, parents=True)\n",
    "\n",
    "    runs_figs_path = runs_path / 'figs'\n",
    "    runs_figs_path.mkdir(exist_ok=True, parents=True)\n",
    "\n",
    "    data_path = lib_repo_path / 'data'\n",
    "    data_path.mkdir(exist_ok=True, parents=True)\n",
    "    \n",
    "    readme_path = lib_repo_path / 'README.md'\n",
    "    \n",
    "    # TODO 这个需要吗，真的缺乏doc吗\n",
    "    if readme_path.exists():\n",
    "        with open(lib_repo_path/\"README.md\") as readme:\n",
    "            this_library.__doc__ = readme.read()\n",
    "    \n",
    "\n",
    "    return LibraryPaths(\n",
    "        lib_init_path=lib_init_path,\n",
    "        lib_directory_path=lib_directory_path,\n",
    "        lib_repo_path=lib_repo_path, \n",
    "        readme_path = readme_path, \n",
    "        runs_path=runs_path,\n",
    "        runs_figs_path=runs_figs_path,\n",
    "        data_path=data_path\n",
    "    )"
   ]
  },
  {
   "cell_type": "code",
   "execution_count": null,
   "metadata": {},
   "outputs": [],
   "source": [
    "#| export\n",
    "import scholarly_infrastructure as this_library\n",
    "\n",
    "lib_paths = setup_paths(this_library)"
   ]
  },
  {
   "cell_type": "code",
   "execution_count": null,
   "metadata": {},
   "outputs": [
    {
     "data": {
      "text/plain": [
       "LibraryPaths(lib_init_path=Path('/home/ye_canming/repos/novelties/cv/ScholarlyInfrastructure/scholarly_infrastructure/__init__.py'), lib_directory_path=Path('/home/ye_canming/repos/novelties/cv/ScholarlyInfrastructure/scholarly_infrastructure'), lib_repo_path=Path('/home/ye_canming/repos/novelties/cv/ScholarlyInfrastructure'), readme_path=Path('/home/ye_canming/repos/novelties/cv/ScholarlyInfrastructure/README.md'), runs_path=Path('/home/ye_canming/repos/novelties/cv/ScholarlyInfrastructure/runs'), runs_figs_path=Path('/home/ye_canming/repos/novelties/cv/ScholarlyInfrastructure/runs/figs'), data_path=Path('/home/ye_canming/repos/novelties/cv/ScholarlyInfrastructure/data'))"
      ]
     },
     "execution_count": null,
     "metadata": {},
     "output_type": "execute_result"
    }
   ],
   "source": [
    "lib_paths"
   ]
  },
  {
   "cell_type": "code",
   "execution_count": null,
   "metadata": {},
   "outputs": [],
   "source": [
    "#| export\n",
    "from dataclasses import dataclass, asdict, is_dataclass\n",
    "def create_variables_from_dict(d:dict[str, Any]|Any, global_dict=None)->None:\n",
    "    if is_dataclass(d):\n",
    "        d = asdict(d)\n",
    "    else:\n",
    "        assert isinstance(d, dict), f\"Input must be a dictionary or a dataclass, but got {type(d)}. \"\n",
    "    if global_dict is None:\n",
    "        global_dict = globals()\n",
    "    global_dict |= d"
   ]
  },
  {
   "cell_type": "code",
   "execution_count": null,
   "metadata": {},
   "outputs": [],
   "source": [
    "#| export\n",
    "create_variables_from_dict(lib_paths)"
   ]
  },
  {
   "cell_type": "code",
   "execution_count": null,
   "metadata": {},
   "outputs": [
    {
     "data": {
      "text/plain": [
       "Path('/home/ye_canming/repos/novelties/cv/ScholarlyInfrastructure/scholarly_infrastructure')"
      ]
     },
     "execution_count": null,
     "metadata": {},
     "output_type": "execute_result"
    }
   ],
   "source": [
    "lib_directory_path"
   ]
  },
  {
   "cell_type": "code",
   "execution_count": null,
   "metadata": {},
   "outputs": [
    {
     "data": {
      "text/plain": [
       "Path('/home/ye_canming/repos/novelties/cv/ScholarlyInfrastructure/runs')"
      ]
     },
     "execution_count": null,
     "metadata": {},
     "output_type": "execute_result"
    }
   ],
   "source": [
    "runs_path"
   ]
  },
  {
   "cell_type": "markdown",
   "metadata": {},
   "source": [
    "## 项目名称"
   ]
  },
  {
   "cell_type": "code",
   "execution_count": null,
   "metadata": {},
   "outputs": [],
   "source": [
    "#| export\n",
    "def combine_bilingual_pretty(primary:str, auxiliary:str)->str:\n",
    "    return f\"{primary} ({auxiliary}) \""
   ]
  },
  {
   "cell_type": "code",
   "execution_count": null,
   "metadata": {},
   "outputs": [],
   "source": [
    "#| export\n",
    "lib_name_en_us = \"Scholarly Infrastructure\" \n",
    "lib_name_zh_cn = \"大师荟萃之楼\" # 群贤毕至之厦，群英聚首之阁\n",
    "lib_name = combine_bilingual_pretty(lib_name_zh_cn, lib_name_en_us)\n",
    "\n",
    "author_name_en_us = \"THU-CVML\" \n",
    "author_name_zh_cn = \"清华大学计算机视觉与机器学习实验室\"\n",
    "github_user=\"THU-CVML\"\n",
    "github_repo=\"ScholarlyInfrastructure\"\n",
    "import_name=\"scholarly_infrastructure\" # pypi name and python import name\n",
    "\n",
    "upgrade_command_pip = f\"pip install --upgrade {import_name}\" # command to upgrade the library\n",
    "\n",
    "pretty_name=combine_bilingual_pretty(f\"{author_name_zh_cn}/{lib_name_zh_cn}\", \n",
    "                                     f\"{author_name_en_us}/{lib_name_en_us}\")\n"
   ]
  },
  {
   "cell_type": "code",
   "execution_count": null,
   "metadata": {},
   "outputs": [],
   "source": [
    "#| hide\n",
    "import nbdev; nbdev.nbdev_export()"
   ]
  }
 ],
 "metadata": {
  "kernelspec": {
   "display_name": "yuequ",
   "language": "python",
   "name": "python3"
  },
  "language_info": {
   "name": "python",
   "version": "3.10.9"
  }
 },
 "nbformat": 4,
 "nbformat_minor": 4
}
